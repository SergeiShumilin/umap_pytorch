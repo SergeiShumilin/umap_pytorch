{
 "cells": [
  {
   "cell_type": "markdown",
   "metadata": {
    "ExecuteTime": {
     "end_time": "2020-09-27T05:04:10.058570Z",
     "start_time": "2020-09-27T05:04:10.052105Z"
    },
    "id": "JXBBoZxFXWI5"
   },
   "source": [
    "# Parametric UMAP\n",
    "\n",
    "This notebook walks you through the basic algorithm for Parametric UMAP (anonymized for ICLR) in a more verbose (but still high-level) way. \n",
    "\n",
    "The code used in the implementation subclasses umap.UMAP and replaces the fit method with a neural network. Here, we'll go through the algorithm, starting with graph construction, one step at a time. \n"
   ]
  },
  {
   "cell_type": "markdown",
   "metadata": {
    "id": "MJnz-JrSXx01"
   },
   "source": [
    "### Install packages"
   ]
  },
  {
   "cell_type": "code",
   "execution_count": 1,
   "metadata": {
    "id": "pDYk_7nYYbgl"
   },
   "outputs": [],
   "source": [
    "!pip install llvmlite>=0.34.0"
   ]
  },
  {
   "cell_type": "code",
   "execution_count": 2,
   "metadata": {
    "colab": {
     "base_uri": "https://localhost:8080/"
    },
    "id": "tiwpKAqDYUM2",
    "outputId": "eb426c37-89d3-493f-a9da-becf586d694e"
   },
   "outputs": [
    {
     "name": "stdout",
     "output_type": "stream",
     "text": [
      "Collecting pynndescent\n",
      "  Using cached pynndescent-0.5.8-py3-none-any.whl\n",
      "Collecting scipy>=1.0\n",
      "  Using cached scipy-1.9.3-cp39-cp39-manylinux_2_17_x86_64.manylinux2014_x86_64.whl (33.8 MB)\n",
      "Collecting joblib>=0.11\n",
      "  Using cached joblib-1.2.0-py3-none-any.whl (297 kB)\n",
      "Collecting scikit-learn>=0.18\n",
      "  Using cached scikit_learn-1.2.0-cp39-cp39-manylinux_2_17_x86_64.manylinux2014_x86_64.whl (9.5 MB)\n",
      "Collecting numba>=0.51.2\n",
      "  Using cached numba-0.56.4-cp39-cp39-manylinux2014_x86_64.manylinux_2_17_x86_64.whl (3.5 MB)\n",
      "Requirement already satisfied: llvmlite>=0.30 in /home/elyx/miniconda3/envs/umap_pt/lib/python3.9/site-packages (from pynndescent) (0.39.1)\n",
      "Collecting numpy<1.24,>=1.18\n",
      "  Using cached numpy-1.23.5-cp39-cp39-manylinux_2_17_x86_64.manylinux2014_x86_64.whl (17.1 MB)\n",
      "Requirement already satisfied: setuptools in /home/elyx/miniconda3/envs/umap_pt/lib/python3.9/site-packages (from numba>=0.51.2->pynndescent) (65.5.0)\n",
      "Collecting threadpoolctl>=2.0.0\n",
      "  Using cached threadpoolctl-3.1.0-py3-none-any.whl (14 kB)\n",
      "Installing collected packages: threadpoolctl, numpy, joblib, scipy, numba, scikit-learn, pynndescent\n",
      "  Attempting uninstall: numpy\n",
      "    Found existing installation: numpy 1.24.0\n",
      "    Uninstalling numpy-1.24.0:\n",
      "      Successfully uninstalled numpy-1.24.0\n",
      "Successfully installed joblib-1.2.0 numba-0.56.4 numpy-1.23.5 pynndescent-0.5.8 scikit-learn-1.2.0 scipy-1.9.3 threadpoolctl-3.1.0\n"
     ]
    }
   ],
   "source": [
    "!pip install --upgrade pynndescent"
   ]
  },
  {
   "cell_type": "code",
   "execution_count": 3,
   "metadata": {
    "colab": {
     "base_uri": "https://localhost:8080/"
    },
    "collapsed": true,
    "id": "NUEqcHlvXyKL",
    "jupyter": {
     "outputs_hidden": true
    },
    "outputId": "7077cdad-5a69-48b3-861d-f70bae3aeb3c",
    "tags": []
   },
   "outputs": [
    {
     "name": "stdout",
     "output_type": "stream",
     "text": [
      "Collecting https://github.com/lmcinnes/umap/archive/0.5dev.zip\n",
      "  Downloading https://github.com/lmcinnes/umap/archive/0.5dev.zip\n",
      "\u001b[2K     \u001b[32m\\\u001b[0m \u001b[32m39.2 MB\u001b[0m \u001b[31m5.0 MB/s\u001b[0m \u001b[33m0:00:08\u001b[0m[0m\n",
      "\u001b[?25h  Preparing metadata (setup.py) ... \u001b[?25ldone\n",
      "\u001b[?25hRequirement already satisfied: numpy>=1.17 in /home/elyx/miniconda3/envs/umap_pt/lib/python3.9/site-packages (from umap-learn==0.5.0rc1) (1.23.5)\n",
      "Requirement already satisfied: scikit-learn>=0.22 in /home/elyx/miniconda3/envs/umap_pt/lib/python3.9/site-packages (from umap-learn==0.5.0rc1) (1.2.0)\n",
      "Requirement already satisfied: scipy>=1.0 in /home/elyx/miniconda3/envs/umap_pt/lib/python3.9/site-packages (from umap-learn==0.5.0rc1) (1.9.3)\n",
      "Requirement already satisfied: numba>=0.49 in /home/elyx/miniconda3/envs/umap_pt/lib/python3.9/site-packages (from umap-learn==0.5.0rc1) (0.56.4)\n",
      "Requirement already satisfied: pynndescent>=0.5 in /home/elyx/miniconda3/envs/umap_pt/lib/python3.9/site-packages (from umap-learn==0.5.0rc1) (0.5.8)\n",
      "Requirement already satisfied: llvmlite<0.40,>=0.39.0dev0 in /home/elyx/miniconda3/envs/umap_pt/lib/python3.9/site-packages (from numba>=0.49->umap-learn==0.5.0rc1) (0.39.1)\n",
      "Requirement already satisfied: setuptools in /home/elyx/miniconda3/envs/umap_pt/lib/python3.9/site-packages (from numba>=0.49->umap-learn==0.5.0rc1) (65.5.0)\n",
      "Requirement already satisfied: joblib>=0.11 in /home/elyx/miniconda3/envs/umap_pt/lib/python3.9/site-packages (from pynndescent>=0.5->umap-learn==0.5.0rc1) (1.2.0)\n",
      "Requirement already satisfied: threadpoolctl>=2.0.0 in /home/elyx/miniconda3/envs/umap_pt/lib/python3.9/site-packages (from scikit-learn>=0.22->umap-learn==0.5.0rc1) (3.1.0)\n",
      "Building wheels for collected packages: umap-learn\n",
      "  Building wheel for umap-learn (setup.py) ... \u001b[?25ldone\n",
      "\u001b[?25h  Created wheel for umap-learn: filename=umap_learn-0.5.0rc1-py3-none-any.whl size=77346 sha256=2368da0fb79e79d924e96d7d0a6adab3fa8825b98b21946ca5fff970a1e873f7\n",
      "  Stored in directory: /tmp/pip-ephem-wheel-cache-plhmix6p/wheels/f5/3f/75/abb1dbbf257809d3cee5adbbea11c17c19e656ee6df5211bcb\n",
      "Successfully built umap-learn\n",
      "Installing collected packages: umap-learn\n",
      "Successfully installed umap-learn-0.5.0rc1\n"
     ]
    }
   ],
   "source": [
    "!pip install https://github.com/lmcinnes/umap/archive/0.5dev.zip"
   ]
  },
  {
   "cell_type": "markdown",
   "metadata": {
    "id": "dt619p-UXWI7"
   },
   "source": [
    "### load dataset\n",
    "We will use MNIST for this example."
   ]
  },
  {
   "cell_type": "code",
   "execution_count": 58,
   "metadata": {
    "ExecuteTime": {
     "end_time": "2020-09-27T16:15:13.485609Z",
     "start_time": "2020-09-27T16:15:03.551813Z"
    },
    "id": "NW3eVu9fXWI8"
   },
   "outputs": [],
   "source": [
    "from torchvision.datasets import MNIST\n",
    "import torchvision\n",
    "from torchvision.transforms import transforms\n",
    "import torch"
   ]
  },
  {
   "cell_type": "code",
   "execution_count": 59,
   "metadata": {
    "ExecuteTime": {
     "end_time": "2020-09-27T16:15:13.721062Z",
     "start_time": "2020-09-27T16:15:13.488081Z"
    },
    "colab": {
     "base_uri": "https://localhost:8080/"
    },
    "id": "xllo9_FLXWI_",
    "outputId": "98d58990-342f-4a77-cd1b-be0c7cf1a411",
    "tags": []
   },
   "outputs": [
    {
     "data": {
      "text/plain": [
       "torch.Size([60000, 1, 28, 28])"
      ]
     },
     "execution_count": 59,
     "metadata": {},
     "output_type": "execute_result"
    }
   ],
   "source": [
    "# load dataset\n",
    "train_dataset = torchvision.datasets.MNIST(root='./data', train=True, transform=transforms.ToTensor(), download=True)\n",
    "test_dataset = torchvision.datasets.MNIST(root='./data', train=False, transform=transforms.ToTensor())\n",
    "train_tensor = torch.stack([example[0] for example in train_dataset])[:, 0][:, None, ...]\n",
    "test_tensor = torch.stack([example[0] for example in test_dataset])[:, 0][:, None, ...]\n",
    "X = train_tensor\n",
    "X.shape"
   ]
  },
  {
   "cell_type": "markdown",
   "metadata": {
    "id": "vGTp6qE7XWJD"
   },
   "source": [
    "## Part 1: Building the Graph\n",
    "The first part of Parametric UMAP is shared with non-parametric UMAP, so we can use the same code. First we build a nearest-neighbors graph, using pynndescent, then we build a fuzzy simplicial complex."
   ]
  },
  {
   "cell_type": "markdown",
   "metadata": {
    "id": "Zvpimd69XWJE"
   },
   "source": [
    "### Build nearest neighbor's graph\n",
    "We're just building a nearest neighbors graph here. You can play around with replacing this code with your own nearest neighbor estimator if you'd like."
   ]
  },
  {
   "cell_type": "code",
   "execution_count": 60,
   "metadata": {
    "ExecuteTime": {
     "end_time": "2020-09-27T16:15:17.854470Z",
     "start_time": "2020-09-27T16:15:13.722484Z"
    },
    "id": "P4b9CSMvXWJE"
   },
   "outputs": [],
   "source": [
    "from pynndescent import NNDescent\n",
    "import numpy as np"
   ]
  },
  {
   "cell_type": "code",
   "execution_count": 61,
   "metadata": {
    "ExecuteTime": {
     "end_time": "2020-09-27T16:15:34.196938Z",
     "start_time": "2020-09-27T16:15:17.855699Z"
    },
    "colab": {
     "base_uri": "https://localhost:8080/"
    },
    "id": "kKMpjQCcXWJH",
    "outputId": "7fefb95f-fd40-4a48-c109-d09201bee491"
   },
   "outputs": [
    {
     "name": "stdout",
     "output_type": "stream",
     "text": [
      "Thu Dec 29 18:03:30 2022 Building RP forest with 17 trees\n",
      "Thu Dec 29 18:03:32 2022 NN descent for 16 iterations\n",
      "\t 1  /  16\n",
      "\t 2  /  16\n",
      "\t 3  /  16\n",
      "\t 4  /  16\n",
      "\t 5  /  16\n",
      "\tStopping threshold met -- exiting after 5 iterations\n"
     ]
    }
   ],
   "source": [
    "# number of trees in random projection forest\n",
    "n_trees = 5 + int(round((X.shape[0]) ** 0.5 / 20.0))\n",
    "# max number of nearest neighbor iters to perform\n",
    "n_iters = max(5, int(round(np.log2(X.shape[0]))))\n",
    "# distance metric\n",
    "metric=\"euclidean\"\n",
    "# number of neighbors for computing k-neighbor graph\n",
    "n_neighbors = 10\n",
    "\n",
    "# get nearest neighbors\n",
    "nnd = NNDescent(\n",
    "    X.reshape((len(X), np.product(np.shape(X)[1:]))),\n",
    "    n_neighbors=n_neighbors,\n",
    "    metric=metric,\n",
    "    n_trees=n_trees,\n",
    "    n_iters=n_iters,\n",
    "    max_candidates=60,\n",
    "    verbose=True\n",
    ")\n",
    "# get indices and distances\n",
    "knn_indices, knn_dists = nnd.neighbor_graph"
   ]
  },
  {
   "cell_type": "code",
   "execution_count": 62,
   "metadata": {
    "ExecuteTime": {
     "end_time": "2020-09-27T16:15:34.202415Z",
     "start_time": "2020-09-27T16:15:34.198522Z"
    },
    "colab": {
     "base_uri": "https://localhost:8080/"
    },
    "id": "BwAID0P-XWJK",
    "outputId": "2d10f486-9d09-4c18-ec3c-665710f0cdd3"
   },
   "outputs": [
    {
     "data": {
      "text/plain": [
       "((60000, 10), (60000, 10))"
      ]
     },
     "execution_count": 62,
     "metadata": {},
     "output_type": "execute_result"
    }
   ],
   "source": [
    "# nearest neighbors and distances for each point in the dataset\n",
    "np.shape(knn_indices), np.shape(knn_dists)"
   ]
  },
  {
   "cell_type": "markdown",
   "metadata": {
    "id": "W08HYAgWXWJN"
   },
   "source": [
    "### Build fuzzy simplicial  complex"
   ]
  },
  {
   "cell_type": "markdown",
   "metadata": {
    "id": "mfw7ylPZXWJO"
   },
   "source": [
    "The `fuzzy_simplicial_set` function takes the nearest neighbor graph and computes a graph of the probabilities of an edge exists between points. "
   ]
  },
  {
   "cell_type": "markdown",
   "metadata": {
    "id": "NNdqj3XOXWJO"
   },
   "source": [
    "Local, one-directional, probabilities ($P^{\\textrm{UMAP}}_{i|j}$) are computed between a point and its neighbors to determine the probability with which an edge (or simplex exists), based upon an assumption that data is uniformly distributed across a manifold in a warped dataspace. Under this assumption, a local notion of distance is set by the distance to the $k$\\textsuperscript{th} nearest neighbor and the local probability is scaled by that local notion of distance."
   ]
  },
  {
   "cell_type": "markdown",
   "metadata": {
    "ExecuteTime": {
     "end_time": "2020-09-27T05:16:17.986700Z",
     "start_time": "2020-09-27T05:16:17.950599Z"
    },
    "id": "H8Uh1YEvXWJP"
   },
   "source": [
    "$$\n",
    "p_{j \\mid i}^{\\textrm{UMAP}} = \\exp( -(\\textrm{d}( \\mathbf{x}_{i},\\mathbf{x}_{j}) - \\rho_{i}) / \\sigma_{i})\n",
    "$$"
   ]
  },
  {
   "cell_type": "markdown",
   "metadata": {
    "id": "XcxgLc9mXWJP"
   },
   "source": [
    "Where $\\rho_{i}$ is a local connectivity parameter set to the distance from $x_i$ to its nearest neighbor, and $\\sigma_{i}$ is a local connectivity parameter set to match the local distance around $x_i$ upon its $k$ nearest neighbors (where $k$ is a hyperparameter). In the UMAP package, these are calculated using `smooth_knn_dist`."
   ]
  },
  {
   "cell_type": "markdown",
   "metadata": {
    "id": "rjlWM9ktXWJQ"
   },
   "source": [
    "After computing the one-directional edge probabilities for each datapoint, we then compute a global probability as the probability of either of the two local, one-directional, probabilities occurring:"
   ]
  },
  {
   "cell_type": "markdown",
   "metadata": {
    "id": "tXSQXAAMXWJQ"
   },
   "source": [
    "$$\n",
    "p_{i j}=\\left(p_{j \\mid i}+p_{i \\mid j}\\right)-p_{j \\mid i} p_{i \\mid j}\n",
    "$$"
   ]
  },
  {
   "cell_type": "code",
   "execution_count": 63,
   "metadata": {
    "ExecuteTime": {
     "end_time": "2020-09-27T16:15:35.628098Z",
     "start_time": "2020-09-27T16:15:34.204517Z"
    },
    "id": "XGfufPVZXWJR"
   },
   "outputs": [],
   "source": [
    "from sklearn.utils import check_random_state\n",
    "from umap.umap_ import fuzzy_simplicial_set"
   ]
  },
  {
   "cell_type": "code",
   "execution_count": 64,
   "metadata": {
    "ExecuteTime": {
     "end_time": "2020-09-27T16:15:35.637707Z",
     "start_time": "2020-09-27T16:15:35.634012Z"
    },
    "id": "4_tWKJMqXWJT"
   },
   "outputs": [],
   "source": [
    "# get indices and distances\n",
    "knn_indices, knn_dists = nnd.neighbor_graph\n",
    "random_state = check_random_state(None)"
   ]
  },
  {
   "cell_type": "code",
   "execution_count": 65,
   "metadata": {
    "ExecuteTime": {
     "end_time": "2020-09-27T16:15:38.153718Z",
     "start_time": "2020-09-27T16:15:35.638908Z"
    },
    "id": "YiSwavUBXWJV"
   },
   "outputs": [],
   "source": [
    "# build fuzzy_simplicial_set\n",
    "umap_graph, sigmas, rhos = fuzzy_simplicial_set(\n",
    "    X = X,\n",
    "    n_neighbors = n_neighbors,\n",
    "    metric = metric,\n",
    "    random_state = random_state,\n",
    "    knn_indices= knn_indices,\n",
    "    knn_dists = knn_dists,\n",
    ")"
   ]
  },
  {
   "cell_type": "code",
   "execution_count": 66,
   "metadata": {
    "ExecuteTime": {
     "end_time": "2020-09-27T16:15:38.158922Z",
     "start_time": "2020-09-27T16:15:38.155304Z"
    },
    "colab": {
     "base_uri": "https://localhost:8080/"
    },
    "id": "WcswAndzXWJY",
    "outputId": "2ddf11b5-d346-4e71-ea03-646804350c10"
   },
   "outputs": [
    {
     "data": {
      "text/plain": [
       "<60000x60000 sparse matrix of type '<class 'numpy.float32'>'\n",
       "\twith 803604 stored elements in Compressed Sparse Row format>"
      ]
     },
     "execution_count": 66,
     "metadata": {},
     "output_type": "execute_result"
    }
   ],
   "source": [
    "umap_graph"
   ]
  },
  {
   "cell_type": "markdown",
   "metadata": {
    "id": "qwcZOK9aXWJa"
   },
   "source": [
    "## Part 2: Embedding the graph"
   ]
  },
  {
   "cell_type": "markdown",
   "metadata": {
    "id": "rf3h1WHyXWJb"
   },
   "source": [
    "Now we learn an embedding for the graph, using a neural network. This is where Parametric UMAP differs from non-parametric UMAP. "
   ]
  },
  {
   "cell_type": "markdown",
   "metadata": {
    "id": "HU_xFy7uXWJb"
   },
   "source": [
    "### Create neural network model\n",
    "We first create a neural network to perform the parametric embedding. Here, we'll use a simple convolutional neural network"
   ]
  },
  {
   "cell_type": "code",
   "execution_count": 67,
   "metadata": {
    "ExecuteTime": {
     "end_time": "2020-09-27T16:15:38.168118Z",
     "start_time": "2020-09-27T16:15:38.160072Z"
    },
    "id": "tdmhgmHXXWJc"
   },
   "outputs": [],
   "source": [
    "import torch\n",
    "import torch.nn as nn\n",
    "import torchsummary"
   ]
  },
  {
   "cell_type": "code",
   "execution_count": 68,
   "metadata": {},
   "outputs": [
    {
     "data": {
      "text/plain": [
       "torch.Size([1, 28, 28])"
      ]
     },
     "execution_count": 68,
     "metadata": {},
     "output_type": "execute_result"
    }
   ],
   "source": [
    "dims = X.shape[1:]\n",
    "dims"
   ]
  },
  {
   "cell_type": "code",
   "execution_count": 193,
   "metadata": {
    "ExecuteTime": {
     "end_time": "2020-09-27T16:15:39.551985Z",
     "start_time": "2020-09-27T16:15:38.169558Z"
    },
    "colab": {
     "base_uri": "https://localhost:8080/"
    },
    "id": "IJHaCZBRXWJe",
    "outputId": "cfcd9d1b-cb6c-4c62-eeec-447f78533c4c"
   },
   "outputs": [
    {
     "name": "stdout",
     "output_type": "stream",
     "text": [
      "----------------------------------------------------------------\n",
      "        Layer (type)               Output Shape         Param #\n",
      "================================================================\n",
      "            Conv2d-1           [-1, 64, 14, 14]             640\n",
      "            Conv2d-2            [-1, 128, 7, 7]          73,856\n",
      "           Flatten-3                 [-1, 6272]               0\n",
      "            Linear-4                  [-1, 512]       3,211,776\n",
      "              ReLU-5                  [-1, 512]               0\n",
      "            Linear-6                  [-1, 512]         262,656\n",
      "              ReLU-7                  [-1, 512]               0\n",
      "            Linear-8                    [-1, 2]           1,026\n",
      "================================================================\n",
      "Total params: 3,549,954\n",
      "Trainable params: 3,549,954\n",
      "Non-trainable params: 0\n",
      "----------------------------------------------------------------\n",
      "Input size (MB): 0.00\n",
      "Forward/backward pass size (MB): 0.21\n",
      "Params size (MB): 13.54\n",
      "Estimated Total Size (MB): 13.75\n",
      "----------------------------------------------------------------\n"
     ]
    }
   ],
   "source": [
    "n_components = 2 # number of latent dimensions\n",
    "dims = X.shape[1:]\n",
    "\n",
    "encoder = nn.Sequential(\n",
    "    nn.Conv2d(\n",
    "        in_channels=1, out_channels=64, kernel_size=3, stride=2, padding=1,\n",
    "    ),\n",
    "    nn.Conv2d(\n",
    "        in_channels=64, out_channels=128, kernel_size=3, stride=2, padding=1,\n",
    "    ),\n",
    "    nn.Flatten(),\n",
    "    nn.Linear(6272, 512),\n",
    "    nn.ReLU(),\n",
    "    nn.Linear(512, 512),\n",
    "    nn.ReLU(),\n",
    "    nn.Linear(512, n_components)\n",
    ").cuda()\n",
    "\n",
    "torchsummary.summary(encoder, (1, 28,28))"
   ]
  },
  {
   "cell_type": "markdown",
   "metadata": {
    "id": "HZcr-OxiXWJg"
   },
   "source": [
    "### create batch iterator\n",
    "\n",
    "We now want to create a dataset to iterate over batches of edges and their nearest-neighbors in our dataset. We're basically just creating a tensorflow dataset that iterates over batches of nearest neighbors, based upon the probabilities determined by the graph we produced (higher probability edges are sampled more frequently).  \n",
    "\n",
    "If you're curious about what's under the hood look at the `construct_edge_dataset` function. Or take a look at the example plot of nearest neighbors below. "
   ]
  },
  {
   "cell_type": "code",
   "execution_count": 51,
   "metadata": {
    "ExecuteTime": {
     "end_time": "2020-09-27T16:15:39.663584Z",
     "start_time": "2020-09-27T16:15:39.553435Z"
    },
    "collapsed": true,
    "id": "O7GsMQwoXWJg",
    "jupyter": {
     "outputs_hidden": true
    },
    "tags": []
   },
   "outputs": [
    {
     "name": "stderr",
     "output_type": "stream",
     "text": [
      "/home/elyx/miniconda3/envs/umap_pt/lib/python3.9/site-packages/umap/parametric_umap.py:16: UserWarning: The umap.parametric_umap package requires Tensorflow > 2.0 to be installed.\n",
      "    You can install Tensorflow at https://www.tensorflow.org/install\n",
      "    \n",
      "    or you can install the CPU version of Tensorflow using \n",
      "\n",
      "    pip install umap-learn[parametric_umap]\n",
      "\n",
      "    \n",
      "  warn(\n"
     ]
    },
    {
     "ename": "ImportError",
     "evalue": "umap.parametric_umap requires Tensorflow >= 2.0",
     "output_type": "error",
     "traceback": [
      "\u001b[0;31m---------------------------------------------------------------------------\u001b[0m",
      "\u001b[0;31mImportError\u001b[0m                               Traceback (most recent call last)",
      "Cell \u001b[0;32mIn[51], line 1\u001b[0m\n\u001b[0;32m----> 1\u001b[0m \u001b[38;5;28;01mfrom\u001b[39;00m \u001b[38;5;21;01mumap\u001b[39;00m\u001b[38;5;21;01m.\u001b[39;00m\u001b[38;5;21;01mparametric_umap\u001b[39;00m \u001b[38;5;28;01mimport\u001b[39;00m construct_edge_dataset\n",
      "File \u001b[0;32m~/miniconda3/envs/umap_pt/lib/python3.9/site-packages/umap/parametric_umap.py:26\u001b[0m\n\u001b[1;32m     15\u001b[0m \u001b[38;5;28;01mexcept\u001b[39;00m \u001b[38;5;167;01mImportError\u001b[39;00m:\n\u001b[1;32m     16\u001b[0m     warn(\n\u001b[1;32m     17\u001b[0m         \u001b[38;5;124;03m\"\"\"The umap.parametric_umap package requires Tensorflow > 2.0 to be installed.\u001b[39;00m\n\u001b[1;32m     18\u001b[0m \u001b[38;5;124;03m    You can install Tensorflow at https://www.tensorflow.org/install\u001b[39;00m\n\u001b[0;32m   (...)\u001b[0m\n\u001b[1;32m     24\u001b[0m \u001b[38;5;124;03m    \"\"\"\u001b[39;00m\n\u001b[1;32m     25\u001b[0m     )\n\u001b[0;32m---> 26\u001b[0m     \u001b[38;5;28;01mraise\u001b[39;00m \u001b[38;5;167;01mImportError\u001b[39;00m(\u001b[38;5;124m\"\u001b[39m\u001b[38;5;124mumap.parametric_umap requires Tensorflow >= 2.0\u001b[39m\u001b[38;5;124m\"\u001b[39m) \u001b[38;5;28;01mfrom\u001b[39;00m \u001b[38;5;28mNone\u001b[39m\n\u001b[1;32m     28\u001b[0m TF_MAJOR_VERSION \u001b[38;5;241m=\u001b[39m \u001b[38;5;28mint\u001b[39m(tf\u001b[38;5;241m.\u001b[39m__version__\u001b[38;5;241m.\u001b[39msplit(\u001b[38;5;124m\"\u001b[39m\u001b[38;5;124m.\u001b[39m\u001b[38;5;124m\"\u001b[39m)[\u001b[38;5;241m0\u001b[39m])\n\u001b[1;32m     29\u001b[0m \u001b[38;5;28;01mif\u001b[39;00m TF_MAJOR_VERSION \u001b[38;5;241m<\u001b[39m \u001b[38;5;241m2\u001b[39m:\n",
      "\u001b[0;31mImportError\u001b[0m: umap.parametric_umap requires Tensorflow >= 2.0"
     ]
    }
   ],
   "source": [
    "from umap.parametric_umap import construct_edge_dataset"
   ]
  },
  {
   "cell_type": "code",
   "execution_count": 177,
   "metadata": {
    "ExecuteTime": {
     "end_time": "2020-09-27T16:15:39.666992Z",
     "start_time": "2020-09-27T16:15:39.664769Z"
    },
    "id": "faN3z3zCXWJj"
   },
   "outputs": [],
   "source": [
    "from torch.utils.data import Dataset, DataLoader\n",
    "n_epochs = 200 \n",
    "batch_size = 8 # iterate over batches of 1000 edges"
   ]
  },
  {
   "cell_type": "code",
   "execution_count": 71,
   "metadata": {},
   "outputs": [
    {
     "data": {
      "text/plain": [
       "torch.Size([60000, 1, 28, 28])"
      ]
     },
     "execution_count": 71,
     "metadata": {},
     "output_type": "execute_result"
    }
   ],
   "source": [
    "X.shape"
   ]
  },
  {
   "cell_type": "code",
   "execution_count": 88,
   "metadata": {},
   "outputs": [],
   "source": [
    "def get_graph_elements(graph_, n_epochs):\n",
    "\n",
    "    graph = graph_.tocoo()\n",
    "    # eliminate duplicate entries by summing them together\n",
    "    graph.sum_duplicates()\n",
    "    # number of vertices in dataset\n",
    "    n_vertices = graph.shape[1]\n",
    "    # get the number of epochs based on the size of the dataset\n",
    "    if n_epochs is None:\n",
    "        # For smaller datasets we can use more epochs\n",
    "        if graph.shape[0] <= 10000:\n",
    "            n_epochs = 500\n",
    "        else:\n",
    "            n_epochs = 200\n",
    "    # remove elements with very low probability\n",
    "    graph.data[graph.data < (graph.data.max() / float(n_epochs))] = 0.0\n",
    "    graph.eliminate_zeros()\n",
    "    # get epochs per sample based upon edge probability\n",
    "    epochs_per_sample = n_epochs * graph.data\n",
    "\n",
    "    head = graph.row\n",
    "    tail = graph.col\n",
    "    weight = graph.data\n",
    "\n",
    "    return graph, epochs_per_sample, head, tail, weight, n_vertices\n"
   ]
  },
  {
   "cell_type": "code",
   "execution_count": null,
   "metadata": {},
   "outputs": [],
   "source": []
  },
  {
   "cell_type": "code",
   "execution_count": 111,
   "metadata": {},
   "outputs": [],
   "source": [
    "class UMAPDataset(Dataset):\n",
    "    def __init__(self, data, graph_, n_epochs):\n",
    "        graph, epochs_per_sample, head, tail, weight, n_vertices = get_graph_elements(graph_, n_epochs)\n",
    "        \n",
    "        self.edges_to_exp, self.edges_from_exp = (\n",
    "        np.repeat(head, epochs_per_sample.astype(\"int\")),\n",
    "        np.repeat(tail, epochs_per_sample.astype(\"int\")),\n",
    "    )\n",
    "        shuffle_mask = np.random.permutation(np.arange(len(self.edges_to_exp)))\n",
    "        self.edges_to_exp = self.edges_to_exp[shuffle_mask].astype(np.int64)\n",
    "        self.edges_from_exp = self.edges_from_exp[shuffle_mask].astype(np.int64)\n",
    "        self.data = data\n",
    "        \n",
    "    def __len__(self):\n",
    "        return int(self.data.shape[0])\n",
    "    \n",
    "    def __getitem__(self, index):\n",
    "        edges_to_exp = self.data[self.edges_to_exp[index]]\n",
    "        edges_from_exp = self.data[self.edges_from_exp[index]]\n",
    "        return (edges_to_exp, edges_from_exp)"
   ]
  },
  {
   "cell_type": "code",
   "execution_count": 113,
   "metadata": {},
   "outputs": [
    {
     "data": {
      "text/plain": [
       "torch.Size([8, 1, 28, 28])"
      ]
     },
     "execution_count": 113,
     "metadata": {},
     "output_type": "execute_result"
    }
   ],
   "source": [
    "dataset = UMAPDataset(X, umap_graph, n_epochs)\n",
    "data_loader = DataLoader(dataset, batch_size=8)\n",
    "(sample_edge_to_x, sample_edge_from_x) = next(iter(data_loader))\n",
    "sample_edge_to_x.shape"
   ]
  },
  {
   "cell_type": "code",
   "execution_count": 103,
   "metadata": {
    "ExecuteTime": {
     "end_time": "2020-09-27T16:15:41.137997Z",
     "start_time": "2020-09-27T16:15:39.668026Z"
    },
    "collapsed": true,
    "id": "TATkwNA6XWJl",
    "jupyter": {
     "outputs_hidden": true
    },
    "tags": []
   },
   "outputs": [
    {
     "ename": "NameError",
     "evalue": "name 'construct_edge_dataset' is not defined",
     "output_type": "error",
     "traceback": [
      "\u001b[0;31m---------------------------------------------------------------------------\u001b[0m",
      "\u001b[0;31mNameError\u001b[0m                                 Traceback (most recent call last)",
      "Cell \u001b[0;32mIn[103], line 9\u001b[0m\n\u001b[1;32m      1\u001b[0m \u001b[38;5;66;03m# get tensorflow dataset of edges \u001b[39;00m\n\u001b[1;32m      2\u001b[0m (\n\u001b[1;32m      3\u001b[0m     edge_dataset,\n\u001b[1;32m      4\u001b[0m     batch_size,\n\u001b[1;32m      5\u001b[0m     n_edges,\n\u001b[1;32m      6\u001b[0m     head,\n\u001b[1;32m      7\u001b[0m     tail,\n\u001b[1;32m      8\u001b[0m     edge_weight,\n\u001b[0;32m----> 9\u001b[0m ) \u001b[38;5;241m=\u001b[39m \u001b[43mconstruct_edge_dataset\u001b[49m(\n\u001b[1;32m     10\u001b[0m     X,\n\u001b[1;32m     11\u001b[0m     umap_graph,\n\u001b[1;32m     12\u001b[0m     n_epochs,\n\u001b[1;32m     13\u001b[0m     batch_size,\n\u001b[1;32m     14\u001b[0m     parametric_embedding \u001b[38;5;241m=\u001b[39m \u001b[38;5;28;01mTrue\u001b[39;00m,\n\u001b[1;32m     15\u001b[0m     parametric_reconstruction \u001b[38;5;241m=\u001b[39m \u001b[38;5;28;01mFalse\u001b[39;00m,\n\u001b[1;32m     16\u001b[0m )\n",
      "\u001b[0;31mNameError\u001b[0m: name 'construct_edge_dataset' is not defined"
     ]
    }
   ],
   "source": [
    "\n",
    "get tensorflow dataset of edges \n",
    "(\n",
    "    edge_dataset,\n",
    "    batch_size,\n",
    "    n_edges,\n",
    "    head,\n",
    "    tail,\n",
    "    edge_weight,\n",
    ") = construct_edge_dataset(\n",
    "    X,\n",
    "    umap_graph,\n",
    "    n_epochs,\n",
    "    batch_size,\n",
    "    parametric_embedding = True,\n",
    "    parametric_reconstruction = False,\n",
    ")"
   ]
  },
  {
   "cell_type": "code",
   "execution_count": 82,
   "metadata": {
    "ExecuteTime": {
     "end_time": "2020-09-27T16:15:41.495575Z",
     "start_time": "2020-09-27T16:15:41.139558Z"
    },
    "colab": {
     "base_uri": "https://localhost:8080/"
    },
    "collapsed": true,
    "id": "GizhoeujXWJn",
    "jupyter": {
     "outputs_hidden": true
    },
    "outputId": "258a206b-2b3e-48a5-c724-284a006c589c",
    "tags": []
   },
   "outputs": [
    {
     "ename": "NameError",
     "evalue": "name 'edge_dataset' is not defined",
     "output_type": "error",
     "traceback": [
      "\u001b[0;31m---------------------------------------------------------------------------\u001b[0m",
      "\u001b[0;31mNameError\u001b[0m                                 Traceback (most recent call last)",
      "Cell \u001b[0;32mIn[82], line 1\u001b[0m\n\u001b[0;32m----> 1\u001b[0m (sample_edge_to_x, sample_edge_from_x), _ \u001b[38;5;241m=\u001b[39m  \u001b[38;5;28mnext\u001b[39m(\u001b[38;5;28miter\u001b[39m(\u001b[43medge_dataset\u001b[49m))\n\u001b[1;32m      2\u001b[0m sample_edge_to_x\u001b[38;5;241m.\u001b[39mshape\n",
      "\u001b[0;31mNameError\u001b[0m: name 'edge_dataset' is not defined"
     ]
    }
   ],
   "source": [
    "(sample_edge_to_x, sample_edge_from_x), _ =  next(iter(edge_dataset))\n",
    "sample_edge_to_x.shape"
   ]
  },
  {
   "cell_type": "code",
   "execution_count": 83,
   "metadata": {
    "ExecuteTime": {
     "end_time": "2020-09-27T16:15:42.702893Z",
     "start_time": "2020-09-27T16:15:41.497156Z"
    },
    "id": "6Hzc2dZFXWJp"
   },
   "outputs": [],
   "source": [
    "import matplotlib.pyplot as plt"
   ]
  },
  {
   "cell_type": "code",
   "execution_count": 114,
   "metadata": {
    "ExecuteTime": {
     "end_time": "2020-09-27T16:15:43.361195Z",
     "start_time": "2020-09-27T16:15:42.704686Z"
    },
    "colab": {
     "base_uri": "https://localhost:8080/",
     "height": 137
    },
    "id": "pew_u7DmXWJr",
    "outputId": "3a6699f2-17af-46fc-a939-22a28e653a43"
   },
   "outputs": [
    {
     "data": {
      "image/png": "[encoded data removed]",
      "text/plain": [
       "<Figure size 1000x200 with 16 Axes>"
      ]
     },
     "metadata": {},
     "output_type": "display_data"
    }
   ],
   "source": [
    "# plot sampled neighbors from graph\n",
    "fig, axs = plt.subplots(nrows=2, ncols=8, figsize=(10,2))\n",
    "for i in range(8):\n",
    "    axs[0,i].matshow(np.squeeze(edges_to_exp[i]), cmap=plt.cm.Greys)\n",
    "    axs[1,i].matshow((np.squeeze(edges_from_exp[i])), cmap=plt.cm.Greys)\n",
    "    axs[0,i].axis('off')\n",
    "    axs[1,i].axis('off')"
   ]
  },
  {
   "cell_type": "markdown",
   "metadata": {
    "id": "qeawk5q0XWJt"
   },
   "source": [
    "### Compute loss over a batch\n",
    "Now that we have an example batch, we'll walk through how UMAP's loss is computed over the batch."
   ]
  },
  {
   "cell_type": "markdown",
   "metadata": {
    "id": "FX90m_4MXWJv"
   },
   "source": [
    "#### Compute $a$ and $b$ parameters. \n",
    "These relate to UMAP's `min_dist` hyperparameter, that determines how spread apart points should be. This only needs to be computed once. These paremeters are used in the calculation of $q_{i j}^{\\textrm{UMAP}}$ (see below)."
   ]
  },
  {
   "cell_type": "code",
   "execution_count": 116,
   "metadata": {
    "ExecuteTime": {
     "end_time": "2020-09-27T16:15:43.376088Z",
     "start_time": "2020-09-27T16:15:43.366777Z"
    },
    "id": "KTw_Jew-XWJw"
   },
   "outputs": [],
   "source": [
    "from umap.umap_ import find_ab_params"
   ]
  },
  {
   "cell_type": "code",
   "execution_count": 117,
   "metadata": {
    "ExecuteTime": {
     "end_time": "2020-09-27T16:15:43.385287Z",
     "start_time": "2020-09-27T16:15:43.378237Z"
    },
    "id": "wJ3sWD0dXWJx"
   },
   "outputs": [],
   "source": [
    "min_dist = 0.1 # controls how tightly UMAP is allowed to pack points together (0 is more)"
   ]
  },
  {
   "cell_type": "code",
   "execution_count": 118,
   "metadata": {
    "ExecuteTime": {
     "end_time": "2020-09-27T16:15:43.396888Z",
     "start_time": "2020-09-27T16:15:43.386952Z"
    },
    "id": "NAvsgXlzXWJz"
   },
   "outputs": [],
   "source": [
    "_a, _b = find_ab_params(1.0, min_dist)"
   ]
  },
  {
   "cell_type": "markdown",
   "metadata": {
    "id": "_CKHhwWhXWJ1"
   },
   "source": [
    "### Grab the embeddings\n",
    "First, We pass the batched data through the network to get the corresponding embeddings. "
   ]
  },
  {
   "cell_type": "code",
   "execution_count": 172,
   "metadata": {
    "ExecuteTime": {
     "end_time": "2020-09-27T16:15:44.826161Z",
     "start_time": "2020-09-27T16:15:43.407645Z"
    },
    "id": "jBzHLMH9XWJ4"
   },
   "outputs": [],
   "source": [
    "# grab z for the edge\n",
    "embedding_to = encoder(sample_edge_to_x.cuda())\n",
    "embedding_from = encoder(sample_edge_from_x.cuda())"
   ]
  },
  {
   "cell_type": "markdown",
   "metadata": {
    "id": "CvvZwFNbXWJ6"
   },
   "source": [
    "##### Next, negative samples are taken by shuffling the batch. \n",
    "The assumption is that randomly paired embeddings should have an edge probability of zero (i.e. negative sampling). "
   ]
  },
  {
   "cell_type": "code",
   "execution_count": 173,
   "metadata": {
    "ExecuteTime": {
     "end_time": "2020-09-27T16:15:43.406014Z",
     "start_time": "2020-09-27T16:15:43.399444Z"
    },
    "id": "HomVD_qMXWJ2"
   },
   "outputs": [],
   "source": [
    "negative_sample_rate = 5 # how many negatives amples to train on per edge. "
   ]
  },
  {
   "cell_type": "code",
   "execution_count": 174,
   "metadata": {
    "ExecuteTime": {
     "end_time": "2020-09-27T16:15:44.837232Z",
     "start_time": "2020-09-27T16:15:44.829958Z"
    },
    "id": "FR-ZHe91XWJ7"
   },
   "outputs": [],
   "source": [
    "# get negative samples by randomly shuffling the batch\n",
    "embedding_neg_to = embedding_to.repeat(negative_sample_rate, 1)\n",
    "repeat_neg = embedding_from.repeat(negative_sample_rate, 1)\n",
    "embedding_neg_from = repeat_neg[torch.randperm(repeat_neg.shape[0])]"
   ]
  },
  {
   "cell_type": "markdown",
   "metadata": {
    "id": "6ynrfShGXWJ8"
   },
   "source": [
    "##### Now we compute the probabilities in embedding space"
   ]
  },
  {
   "cell_type": "markdown",
   "metadata": {
    "id": "tDXJL-yqXWJ9"
   },
   "source": [
    "$$\n",
    "q_{i j}^{\\textrm{UMAP}}=\\left(1+a\\ \\|z_{i}-z_{j}||^{2 b}\\right)^{-1}\n",
    "$$"
   ]
  },
  {
   "cell_type": "code",
   "execution_count": 175,
   "metadata": {},
   "outputs": [
    {
     "data": {
      "text/plain": [
       "tensor([0.0034, 0.0109, 0.0053, 0.0008, 0.0048, 0.0102, 0.0017, 0.0070, 0.0151,\n",
       "        0.0119, 0.0088, 0.0081, 0.0153, 0.0232, 0.0042, 0.0067, 0.0034, 0.0152,\n",
       "        0.0094, 0.0147, 0.0118, 0.0232, 0.0059, 0.0113, 0.0173, 0.0201, 0.0094,\n",
       "        0.0081, 0.0118, 0.0088, 0.0153, 0.0070, 0.0048, 0.0162, 0.0134, 0.0147,\n",
       "        0.0125, 0.0251, 0.0017, 0.0106, 0.0173, 0.0231, 0.0140, 0.0095, 0.0125,\n",
       "        0.0132, 0.0046, 0.0067], device='cuda:0', grad_fn=<CatBackward0>)"
      ]
     },
     "execution_count": 175,
     "metadata": {},
     "output_type": "execute_result"
    }
   ],
   "source": [
    "distance_embedding = torch.cat((\n",
    "    (embedding_to - embedding_from).norm(dim=1),\n",
    "    (embedding_neg_to - embedding_neg_from).norm(dim=1)\n",
    "), dim=0)\n",
    "distance_embedding"
   ]
  },
  {
   "cell_type": "code",
   "execution_count": 176,
   "metadata": {
    "ExecuteTime": {
     "end_time": "2020-09-27T16:15:44.855819Z",
     "start_time": "2020-09-27T16:15:44.847240Z"
    },
    "id": "XIIRtOp6XWJ_"
   },
   "outputs": [
    {
     "data": {
      "text/plain": [
       "torch.Size([48])"
      ]
     },
     "execution_count": 176,
     "metadata": {},
     "output_type": "execute_result"
    }
   ],
   "source": [
    "def convert_distance_to_probability(distances, a=1.0, b=1.0):\n",
    "    return 1.0 / (1.0 + a * distances ** (2 * b))\n",
    "\n",
    "# convert probabilities to distances\n",
    "probabilities_distance = convert_distance_to_probability(\n",
    "    distance_embedding, _a, _b\n",
    "); probabilities_distance.shape"
   ]
  },
  {
   "cell_type": "markdown",
   "metadata": {
    "id": "N7KVpI62HqD6"
   },
   "source": [
    "We treat all edges as having a probability of 1, and all negative samples as having a probability of 0. "
   ]
  },
  {
   "cell_type": "code",
   "execution_count": 178,
   "metadata": {
    "ExecuteTime": {
     "end_time": "2020-09-27T16:15:44.872352Z",
     "start_time": "2020-09-27T16:15:44.857101Z"
    },
    "id": "iAQ5IYFzXWKB"
   },
   "outputs": [
    {
     "data": {
      "text/plain": [
       "torch.Size([48])"
      ]
     },
     "execution_count": 178,
     "metadata": {},
     "output_type": "execute_result"
    }
   ],
   "source": [
    "# set true probabilities based on negative sampling\n",
    "probabilities_graph = torch.cat(\n",
    "    (torch.ones(batch_size), torch.zeros(batch_size * negative_sample_rate)), dim=0,\n",
    "); probabilities_graph.shape"
   ]
  },
  {
   "cell_type": "markdown",
   "metadata": {
    "id": "1WgYapvYXWKD"
   },
   "source": [
    "##### Finally, we compute the cross entropy cost that UMAP will optimize using gradient descent:"
   ]
  },
  {
   "cell_type": "markdown",
   "metadata": {
    "ExecuteTime": {
     "end_time": "2020-09-27T16:04:12.033566Z",
     "start_time": "2020-09-27T16:04:12.025360Z"
    },
    "id": "eV7zYYFHXWKE"
   },
   "source": [
    "$$\n",
    "C_{\\textrm{UMAP}}= \\sum_{i \\neq j} p_{i j} \\log \\left(\\frac{p_{i j}}{q_{i j}}\\right)+\\left(1-p_{i j}\\right) \\log \\left(\\frac{1-p_{i j}}{1-q_{i j}}\\right)\n",
    "$$"
   ]
  },
  {
   "cell_type": "code",
   "execution_count": 179,
   "metadata": {
    "ExecuteTime": {
     "end_time": "2020-09-27T16:15:44.881612Z",
     "start_time": "2020-09-27T16:15:44.874143Z"
    },
    "id": "AqjaSanDXWKG"
   },
   "outputs": [],
   "source": [
    "def compute_cross_entropy(\n",
    "    probabilities_graph, probabilities_distance, EPS=1e-4, repulsion_strength=1.0\n",
    "):\n",
    "    # cross entropy\n",
    "    attraction_term = -probabilities_graph * torch.log(\n",
    "        torch.clamp(probabilities_distance, min=EPS, max=1.0)\n",
    "    )\n",
    "    repellant_term = (\n",
    "        -(1.0 - probabilities_graph)\n",
    "        * torch.log(torch.clamp(1.0 - probabilities_distance, min=EPS, max=1.0))\n",
    "        * repulsion_strength\n",
    "    )\n",
    "\n",
    "    # balance the expected losses between atrraction and repel\n",
    "    CE = attraction_term + repellant_term\n",
    "    return attraction_term, repellant_term, CE"
   ]
  },
  {
   "cell_type": "code",
   "execution_count": 183,
   "metadata": {
    "ExecuteTime": {
     "end_time": "2020-09-27T16:15:44.892771Z",
     "start_time": "2020-09-27T16:15:44.882751Z"
    },
    "id": "j9bF2C2zXWKI"
   },
   "outputs": [],
   "source": [
    "# compute cross entropy\n",
    "(attraction_loss, repellant_loss, ce_loss) = compute_cross_entropy(\n",
    "    probabilities_graph.cuda(),\n",
    "    probabilities_distance.cuda(),\n",
    ")"
   ]
  },
  {
   "cell_type": "code",
   "execution_count": 185,
   "metadata": {},
   "outputs": [],
   "source": [
    "min_dist = 0.1 # controls how tightly UMAP is allowed to pack points together (0 is more)\n",
    "_a, _b = find_ab_params(1.0, min_dist)"
   ]
  },
  {
   "cell_type": "code",
   "execution_count": 187,
   "metadata": {},
   "outputs": [],
   "source": [
    "from umap.umap_ import find_ab_params\n",
    "\n",
    "def convert_distance_to_probability(distances, a=1.0, b=1.0):\n",
    "    return 1.0 / (1.0 + a * distances ** (2 * b))\n",
    "\n",
    "def compute_cross_entropy(\n",
    "    probabilities_graph, probabilities_distance, EPS=1e-4, repulsion_strength=1.0\n",
    "):\n",
    "    # cross entropy\n",
    "    attraction_term = -probabilities_graph * torch.log(\n",
    "        torch.clamp(probabilities_distance, min=EPS, max=1.0)\n",
    "    )\n",
    "    repellant_term = (\n",
    "        -(1.0 - probabilities_graph)\n",
    "        * torch.log(torch.clamp(1.0 - probabilities_distance, min=EPS, max=1.0))\n",
    "        * repulsion_strength\n",
    "    )\n",
    "\n",
    "    # balance the expected losses between atrraction and repel\n",
    "    CE = attraction_term + repellant_term\n",
    "    return attraction_term, repellant_term, CE\n",
    "\n",
    "def umap_loss(min_dist=0.1, batch_size=8, negative_sample_rate=5):\n",
    "    _a, _b = find_ab_params(1.0, min_dist)\n",
    "    # grab z for the edge\n",
    "    embedding_to = encoder(sample_edge_to_x.cuda())\n",
    "    embedding_from = encoder(sample_edge_from_x.cuda())\n",
    "    # get negative samples by randomly shuffling the batch\n",
    "    embedding_neg_to = embedding_to.repeat(negative_sample_rate, 1)\n",
    "    repeat_neg = embedding_from.repeat(negative_sample_rate, 1)\n",
    "    embedding_neg_from = repeat_neg[torch.randperm(repeat_neg.shape[0])]\n",
    "    distance_embedding = torch.cat((\n",
    "        (embedding_to - embedding_from).norm(dim=1),\n",
    "        (embedding_neg_to - embedding_neg_from).norm(dim=1)\n",
    "    ), dim=0)\n",
    "\n",
    "    # convert probabilities to distances\n",
    "    probabilities_distance = convert_distance_to_probability(\n",
    "        distance_embedding, _a, _b\n",
    "    )\n",
    "    # set true probabilities based on negative sampling\n",
    "    probabilities_graph = torch.cat(\n",
    "        (torch.ones(batch_size), torch.zeros(batch_size * negative_sample_rate)), dim=0,\n",
    "    )\n",
    "\n",
    "    # compute cross entropy\n",
    "    (attraction_loss, repellant_loss, ce_loss) = compute_cross_entropy(\n",
    "        probabilities_graph.cuda(),\n",
    "        probabilities_distance.cuda(),\n",
    "    )\n",
    "    \n",
    "    return attraction_loss, repellant_loss, ce_loss"
   ]
  },
  {
   "cell_type": "markdown",
   "metadata": {
    "id": "Eat61bMWXWKJ"
   },
   "source": [
    "#### Creating a loss function \n",
    "For the next step, we've packaged the code above into a loss function that will work with Keras. It's doing the same thing as the code above, just packaged into a function. "
   ]
  },
  {
   "cell_type": "code",
   "execution_count": null,
   "metadata": {
    "ExecuteTime": {
     "end_time": "2020-09-27T16:15:44.901064Z",
     "start_time": "2020-09-27T16:15:44.894470Z"
    },
    "id": "V-u-UJYIXWKK"
   },
   "outputs": [],
   "source": [
    "from umap.parametric_umap import umap_loss \n",
    "\n",
    "umap_loss_fn = umap_loss(\n",
    "    batch_size,\n",
    "    negative_sample_rate,\n",
    "    _a,\n",
    "    _b,\n",
    "    edge_weight,\n",
    "    parametric_embedding = True\n",
    ")"
   ]
  },
  {
   "cell_type": "markdown",
   "metadata": {
    "id": "qxcSof65XWKM"
   },
   "source": [
    "### Define and compile the Keras model\n",
    "We can now define the network as a keras model, which will optimize over the loss function we defined.\n",
    "\\\\\\\\\\\\\\\\\\\n",
    "In the code from the paper, we used custom training loops rather than optimizing directly with Keras, but for simplicitly, we'll use Keras here. \n",
    "\n",
    "Tip: Try adding in a decoder and reconstruction loss here to make a UMAP autoencoder. Look at the code from our paper's repository if you need help. "
   ]
  },
  {
   "cell_type": "code",
   "execution_count": null,
   "metadata": {
    "ExecuteTime": {
     "end_time": "2020-09-27T16:15:44.945677Z",
     "start_time": "2020-09-27T16:15:44.902298Z"
    },
    "id": "yfBEwstfXWKM"
   },
   "outputs": [],
   "source": [
    "# define the inputs\n",
    "to_x = tf.keras.layers.Input(shape=dims, name=\"to_x\")\n",
    "from_x = tf.keras.layers.Input(shape=dims, name=\"from_x\")\n",
    "inputs = [to_x, from_x]\n",
    "\n",
    "# parametric embedding\n",
    "embedding_to = encoder(to_x)\n",
    "embedding_from = encoder(from_x)\n",
    "\n",
    "# concatenate to/from projections for loss computation\n",
    "embedding_to_from = tf.concat([embedding_to, embedding_from], axis=1)\n",
    "embedding_to_from = tf.keras.layers.Lambda(lambda x: x, name=\"umap\")(\n",
    "    embedding_to_from\n",
    ")\n",
    "outputs = {'umap': embedding_to_from}\n",
    "\n",
    "# create model\n",
    "parametric_model = tf.keras.Model(inputs=inputs, outputs=outputs,)"
   ]
  },
  {
   "cell_type": "code",
   "execution_count": null,
   "metadata": {
    "ExecuteTime": {
     "end_time": "2020-09-27T16:15:44.949238Z",
     "start_time": "2020-09-27T16:15:44.946827Z"
    },
    "id": "gjMosfrgXWKO"
   },
   "outputs": [],
   "source": [
    "optimizer = tf.keras.optimizers.Adam(1e-3)"
   ]
  },
  {
   "cell_type": "code",
   "execution_count": null,
   "metadata": {
    "ExecuteTime": {
     "end_time": "2020-09-27T16:15:44.979067Z",
     "start_time": "2020-09-27T16:15:44.950538Z"
    },
    "id": "c67DDZsQXWKQ"
   },
   "outputs": [],
   "source": [
    "parametric_model.compile(\n",
    "    optimizer=optimizer, loss=umap_loss_fn\n",
    ")"
   ]
  },
  {
   "cell_type": "markdown",
   "metadata": {
    "id": "mb0pwMmcXWKR"
   },
   "source": [
    "### Fit model\n",
    "Try training for more or fewer epochs to see the embeddings over time. "
   ]
  },
  {
   "cell_type": "code",
   "execution_count": null,
   "metadata": {
    "ExecuteTime": {
     "end_time": "2020-09-27T16:15:44.982902Z",
     "start_time": "2020-09-27T16:15:44.980150Z"
    },
    "id": "iQfCHVWOXWKS"
   },
   "outputs": [],
   "source": [
    "# Steps per epoch determines how many training steps we take, before keras \n",
    "#. starts a new epoch. To get more frequent reporting, you can set the number\n",
    "#. of epochs higher and the number of steps per epoch lower. \n",
    "steps_per_epoch = int(\n",
    "    n_edges / batch_size / 5\n",
    ")"
   ]
  },
  {
   "cell_type": "code",
   "execution_count": null,
   "metadata": {
    "ExecuteTime": {
     "start_time": "2020-09-27T16:15:03.564Z"
    },
    "colab": {
     "base_uri": "https://localhost:8080/"
    },
    "id": "UEuddq87XWKT",
    "outputId": "328c97de-262d-41df-fb2c-45fe784d2132"
   },
   "outputs": [
    {
     "name": "stdout",
     "output_type": "stream",
     "text": [
      "Epoch 1/20\n",
      "  2/629 [..............................] - ETA: 15s - loss: 0.5430WARNING:tensorflow:Callbacks method `on_train_batch_end` is slow compared to the batch time (batch time: 0.0114s vs `on_train_batch_end` time: 0.0392s). Check your callbacks.\n",
      "629/629 [==============================] - 25s 39ms/step - loss: 0.1818\n",
      "Epoch 2/20\n",
      "629/629 [==============================] - 25s 40ms/step - loss: 0.1366\n",
      "Epoch 3/20\n",
      "629/629 [==============================] - 25s 41ms/step - loss: 0.1271\n",
      "Epoch 4/20\n",
      "629/629 [==============================] - 26s 41ms/step - loss: 0.1221\n",
      "Epoch 5/20\n",
      "629/629 [==============================] - 26s 41ms/step - loss: 0.1183\n",
      "Epoch 6/20\n",
      "629/629 [==============================] - 26s 41ms/step - loss: 0.1150\n",
      "Epoch 7/20\n",
      "629/629 [==============================] - 26s 41ms/step - loss: 0.1135\n",
      "Epoch 8/20\n",
      "629/629 [==============================] - 26s 41ms/step - loss: 0.1129\n",
      "Epoch 9/20\n",
      "629/629 [==============================] - 26s 41ms/step - loss: 0.1110\n",
      "Epoch 10/20\n",
      "629/629 [==============================] - 26s 41ms/step - loss: 0.1095\n",
      "Epoch 11/20\n",
      "629/629 [==============================] - 26s 41ms/step - loss: 0.1084\n",
      "Epoch 12/20\n",
      "629/629 [==============================] - 26s 41ms/step - loss: 0.1077\n",
      "Epoch 13/20\n",
      "629/629 [==============================] - 26s 41ms/step - loss: 0.1063\n",
      "Epoch 14/20\n",
      "629/629 [==============================] - 26s 41ms/step - loss: 0.1059\n",
      "Epoch 15/20\n",
      "629/629 [==============================] - 26s 41ms/step - loss: 0.1053\n",
      "Epoch 16/20\n",
      "629/629 [==============================] - 26s 41ms/step - loss: 0.1049\n",
      "Epoch 17/20\n",
      "629/629 [==============================] - 26s 41ms/step - loss: 0.1046\n",
      "Epoch 18/20\n",
      "629/629 [==============================] - 26s 41ms/step - loss: 0.1041\n",
      "Epoch 19/20\n",
      "629/629 [==============================] - 26s 41ms/step - loss: 0.1032\n",
      "Epoch 20/20\n",
      "629/629 [==============================] - 26s 41ms/step - loss: 0.1034\n"
     ]
    }
   ],
   "source": [
    "# create embedding\n",
    "history = parametric_model.fit(\n",
    "    edge_dataset,\n",
    "    epochs=20,\n",
    "    steps_per_epoch=steps_per_epoch,\n",
    "    max_queue_size=100,\n",
    ")"
   ]
  },
  {
   "cell_type": "markdown",
   "metadata": {
    "id": "y-0ifB4vXWKV"
   },
   "source": [
    "#### plot the loss"
   ]
  },
  {
   "cell_type": "code",
   "execution_count": null,
   "metadata": {
    "ExecuteTime": {
     "start_time": "2020-09-27T16:15:03.566Z"
    },
    "colab": {
     "base_uri": "https://localhost:8080/",
     "height": 281
    },
    "id": "vso_3RiOXWKV",
    "outputId": "716d2dc1-5d75-46e2-f35c-616cda95fadd"
   },
   "outputs": [
    {
     "data": {
      "text/plain": [
       "[<matplotlib.lines.Line2D at 0x7f1addf558d0>]"
      ]
     },
     "execution_count": 44,
     "metadata": {
      "tags": []
     },
     "output_type": "execute_result"
    },
    {
     "data": {
      "image/png": "[encoded data removed]",
      "text/plain": [
       "<Figure size 432x288 with 1 Axes>"
      ]
     },
     "metadata": {
      "needs_background": "light",
      "tags": []
     },
     "output_type": "display_data"
    }
   ],
   "source": [
    "plt.plot(history.history['loss'])"
   ]
  },
  {
   "cell_type": "markdown",
   "metadata": {
    "id": "H9ng1tgwXWKY"
   },
   "source": [
    "#### Take look at the final embeddings"
   ]
  },
  {
   "cell_type": "code",
   "execution_count": null,
   "metadata": {
    "ExecuteTime": {
     "start_time": "2020-09-27T16:15:03.567Z"
    },
    "id": "7_tE80qqXWKY"
   },
   "outputs": [],
   "source": [
    "# Project data\n",
    "z = encoder.predict(X)"
   ]
  },
  {
   "cell_type": "code",
   "execution_count": null,
   "metadata": {
    "ExecuteTime": {
     "start_time": "2020-09-27T16:15:03.570Z"
    },
    "colab": {
     "base_uri": "https://localhost:8080/",
     "height": 520
    },
    "id": "QsKUXLMXXWKd",
    "outputId": "81fef984-a465-410a-d561-43e9069282e7"
   },
   "outputs": [
    {
     "data": {
      "text/plain": [
       "Text(0.5, 1.0, 'UMAP embeddings')"
      ]
     },
     "execution_count": 43,
     "metadata": {
      "tags": []
     },
     "output_type": "execute_result"
    },
    {
     "data": {
      "image/png": "[encoded data removed]",
      "text/plain": [
       "<Figure size 720x576 with 1 Axes>"
      ]
     },
     "metadata": {
      "needs_background": "light",
      "tags": []
     },
     "output_type": "display_data"
    }
   ],
   "source": [
    "fig, ax = plt.subplots(ncols=1, figsize=(10, 8))\n",
    "sc = ax.scatter(\n",
    "    z[:, 0],\n",
    "    z[:, 1],\n",
    "    c=train_labels,\n",
    "    cmap=\"tab10\",\n",
    "    s=0.1,\n",
    "    alpha=0.5,\n",
    "    rasterized=True,\n",
    ")\n",
    "ax.axis('equal')\n",
    "ax.set_title(\"UMAP embeddings\", fontsize=20)"
   ]
  },
  {
   "cell_type": "code",
   "execution_count": null,
   "metadata": {
    "id": "NGtACDBOhqHJ"
   },
   "outputs": [],
   "source": []
  }
 ],
 "metadata": {
  "accelerator": "GPU",
  "colab": {
   "provenance": []
  },
  "kernelspec": {
   "display_name": "Python 3 (ipykernel)",
   "language": "python",
   "name": "python3"
  },
  "language_info": {
   "codemirror_mode": {
    "name": "ipython",
    "version": 3
   },
   "file_extension": ".py",
   "mimetype": "text/x-python",
   "name": "python",
   "nbconvert_exporter": "python",
   "pygments_lexer": "ipython3",
   "version": "3.9.15"
  }
 },
 "nbformat": 4,
 "nbformat_minor": 4
}
